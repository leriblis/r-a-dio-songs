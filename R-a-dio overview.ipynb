{
 "cells": [
  {
   "cell_type": "code",
   "execution_count": 196,
   "metadata": {
    "collapsed": false
   },
   "outputs": [],
   "source": [
    "%matplotlib inline\n",
    "import matplotlib.pyplot as plt\n",
    "import json\n",
    "import pandas as pd\n",
    "import numpy as np\n",
    "from tqdm import tqdm"
   ]
  },
  {
   "cell_type": "code",
   "execution_count": 145,
   "metadata": {
    "collapsed": false
   },
   "outputs": [
    {
     "name": "stdout",
     "output_type": "stream",
     "text": [
      "Data was updated on 2018-02-13T11:36:36+0000\n",
      "Dict keys= ['songs_dic', 'broken_ts_list', 'latest_ts']\n"
     ]
    }
   ],
   "source": [
    "pd.options.display.max_rows = 100\n",
    "\n",
    "# load data\n",
    "with open(\"songs_db.json\") as f:\n",
    "    songs_db = json.load(f)\n",
    "\n",
    "print(f\"Data was updated on {songs_db['latest_ts']}\")\n",
    "print(\"Dict keys=\", list(songs_db.keys()))"
   ]
  },
  {
   "cell_type": "code",
   "execution_count": 146,
   "metadata": {
    "collapsed": false
   },
   "outputs": [
    {
     "data": {
      "text/html": [
       "<div>\n",
       "<style>\n",
       "    .dataframe thead tr:only-child th {\n",
       "        text-align: right;\n",
       "    }\n",
       "\n",
       "    .dataframe thead th {\n",
       "        text-align: left;\n",
       "    }\n",
       "\n",
       "    .dataframe tbody tr th {\n",
       "        vertical-align: top;\n",
       "    }\n",
       "</style>\n",
       "<table border=\"1\" class=\"dataframe\">\n",
       "  <thead>\n",
       "    <tr style=\"text-align: right;\">\n",
       "      <th></th>\n",
       "      <th>time</th>\n",
       "      <th>name</th>\n",
       "    </tr>\n",
       "  </thead>\n",
       "  <tbody>\n",
       "    <tr>\n",
       "      <th>732744</th>\n",
       "      <td>2018-02-13 11:56:16</td>\n",
       "      <td>Sayonara Ponytail - Amai Kanshou (Galileo Gali...</td>\n",
       "    </tr>\n",
       "    <tr>\n",
       "      <th>732745</th>\n",
       "      <td>2018-02-13 11:52:18</td>\n",
       "      <td>She - And Beyond</td>\n",
       "    </tr>\n",
       "    <tr>\n",
       "      <th>732746</th>\n",
       "      <td>2018-02-13 11:50:08</td>\n",
       "      <td>SOPHIA - Boku wa Koko ni Iru</td>\n",
       "    </tr>\n",
       "    <tr>\n",
       "      <th>732747</th>\n",
       "      <td>2018-02-13 11:45:34</td>\n",
       "      <td>LiSA - AxxxiS</td>\n",
       "    </tr>\n",
       "    <tr>\n",
       "      <th>732748</th>\n",
       "      <td>2018-02-13 11:41:08</td>\n",
       "      <td>Does - Yumemiru Sekai</td>\n",
       "    </tr>\n",
       "  </tbody>\n",
       "</table>\n",
       "</div>"
      ],
      "text/plain": [
       "                      time                                               name\n",
       "732744 2018-02-13 11:56:16  Sayonara Ponytail - Amai Kanshou (Galileo Gali...\n",
       "732745 2018-02-13 11:52:18                                   She - And Beyond\n",
       "732746 2018-02-13 11:50:08                       SOPHIA - Boku wa Koko ni Iru\n",
       "732747 2018-02-13 11:45:34                                      LiSA - AxxxiS\n",
       "732748 2018-02-13 11:41:08                              Does - Yumemiru Sekai"
      ]
     },
     "execution_count": 146,
     "metadata": {},
     "output_type": "execute_result"
    }
   ],
   "source": [
    "# create datafram\n",
    "df = pd.DataFrame.from_dict(songs_db['songs_dic'], orient='index')\n",
    "df.reset_index(level=0, inplace=True)\n",
    "df.columns = ['time','name']\n",
    "df['time'] = pd.to_datetime(df.time)\n",
    "\n",
    "df.tail()"
   ]
  },
  {
   "cell_type": "markdown",
   "metadata": {},
   "source": [
    "### Time stats"
   ]
  },
  {
   "cell_type": "code",
   "execution_count": 3,
   "metadata": {
    "collapsed": false
   },
   "outputs": [
    {
     "data": {
      "image/png": "[encoded data removed]",
      "text/plain": [
       "<matplotlib.figure.Figure at 0x7fe2bd741fd0>"
      ]
     },
     "metadata": {},
     "output_type": "display_data"
    }
   ],
   "source": [
    "counts = df.groupby(df.time.dt.year).count()\n",
    "ax = counts.plot(y='name', kind='bar', legend=False)\n",
    "ax.set_title('Number of songs played during each year')\n",
    "_ = ax.set(xlabel=\"year\", ylabel=\"play count\")\n"
   ]
  },
  {
   "cell_type": "markdown",
   "metadata": {},
   "source": [
    "### Top songs"
   ]
  },
  {
   "cell_type": "code",
   "execution_count": 4,
   "metadata": {
    "collapsed": false,
    "scrolled": false
   },
   "outputs": [
    {
     "name": "stdout",
     "output_type": "stream",
     "text": [
      "A total of 84122 unique songs have been played on r/a/dio\n"
     ]
    },
    {
     "data": {
      "text/html": [
       "<div>\n",
       "<style>\n",
       "    .dataframe thead tr:only-child th {\n",
       "        text-align: right;\n",
       "    }\n",
       "\n",
       "    .dataframe thead th {\n",
       "        text-align: left;\n",
       "    }\n",
       "\n",
       "    .dataframe tbody tr th {\n",
       "        vertical-align: top;\n",
       "    }\n",
       "</style>\n",
       "<table border=\"1\" class=\"dataframe\">\n",
       "  <thead>\n",
       "    <tr style=\"text-align: right;\">\n",
       "      <th></th>\n",
       "      <th>song_name</th>\n",
       "      <th>play counts</th>\n",
       "    </tr>\n",
       "  </thead>\n",
       "  <tbody>\n",
       "    <tr>\n",
       "      <th>0</th>\n",
       "      <td>FLOW - COLORS</td>\n",
       "      <td>669</td>\n",
       "    </tr>\n",
       "    <tr>\n",
       "      <th>1</th>\n",
       "      <td>Supercell - Feel so good</td>\n",
       "      <td>508</td>\n",
       "    </tr>\n",
       "    <tr>\n",
       "      <th>2</th>\n",
       "      <td>Seira Kagami - Super Special</td>\n",
       "      <td>393</td>\n",
       "    </tr>\n",
       "    <tr>\n",
       "      <th>3</th>\n",
       "      <td>#comiket - trainroll</td>\n",
       "      <td>367</td>\n",
       "    </tr>\n",
       "    <tr>\n",
       "      <th>4</th>\n",
       "      <td>Sporty-O feat. Akemi Homura - I want my UNTZ back</td>\n",
       "      <td>333</td>\n",
       "    </tr>\n",
       "    <tr>\n",
       "      <th>5</th>\n",
       "      <td>Carlito - GO! GO! CARLITO!</td>\n",
       "      <td>333</td>\n",
       "    </tr>\n",
       "    <tr>\n",
       "      <th>6</th>\n",
       "      <td>Supercell - LOVE &amp; ROLL</td>\n",
       "      <td>327</td>\n",
       "    </tr>\n",
       "    <tr>\n",
       "      <th>7</th>\n",
       "      <td>supercell - My Dearest</td>\n",
       "      <td>327</td>\n",
       "    </tr>\n",
       "    <tr>\n",
       "      <th>8</th>\n",
       "      <td>JIMANG - la divina tragedia ~Makyoku~</td>\n",
       "      <td>320</td>\n",
       "    </tr>\n",
       "    <tr>\n",
       "      <th>9</th>\n",
       "      <td>Pearl Kyoudai - Youkoso! Hitori Bocchi</td>\n",
       "      <td>315</td>\n",
       "    </tr>\n",
       "    <tr>\n",
       "      <th>10</th>\n",
       "      <td>Lucy Rose - Shiver</td>\n",
       "      <td>310</td>\n",
       "    </tr>\n",
       "    <tr>\n",
       "      <th>11</th>\n",
       "      <td>Yamazaki Masayoshi - One More Time, One More C...</td>\n",
       "      <td>306</td>\n",
       "    </tr>\n",
       "    <tr>\n",
       "      <th>12</th>\n",
       "      <td>Dave Rodgers - Deja vu</td>\n",
       "      <td>305</td>\n",
       "    </tr>\n",
       "    <tr>\n",
       "      <th>13</th>\n",
       "      <td>アフィリア・サーガ - ネプチューヌ☆サガして</td>\n",
       "      <td>301</td>\n",
       "    </tr>\n",
       "    <tr>\n",
       "      <th>14</th>\n",
       "      <td>Utada Hikaru - Beautiful World</td>\n",
       "      <td>293</td>\n",
       "    </tr>\n",
       "    <tr>\n",
       "      <th>15</th>\n",
       "      <td>3L - MyonMyonMyonMyonMyonMyon!</td>\n",
       "      <td>287</td>\n",
       "    </tr>\n",
       "    <tr>\n",
       "      <th>16</th>\n",
       "      <td>Nothing's Carved in Stone - Out of Control</td>\n",
       "      <td>284</td>\n",
       "    </tr>\n",
       "    <tr>\n",
       "      <th>17</th>\n",
       "      <td>nothing - nothing</td>\n",
       "      <td>284</td>\n",
       "    </tr>\n",
       "    <tr>\n",
       "      <th>18</th>\n",
       "      <td>Abingdon Boys School - Howling</td>\n",
       "      <td>283</td>\n",
       "    </tr>\n",
       "    <tr>\n",
       "      <th>19</th>\n",
       "      <td>Kaneda Tomoko - Ganbara</td>\n",
       "      <td>279</td>\n",
       "    </tr>\n",
       "    <tr>\n",
       "      <th>20</th>\n",
       "      <td>Queen - Don't Stop Me Now</td>\n",
       "      <td>277</td>\n",
       "    </tr>\n",
       "    <tr>\n",
       "      <th>21</th>\n",
       "      <td>fripSide - only my railgun</td>\n",
       "      <td>272</td>\n",
       "    </tr>\n",
       "    <tr>\n",
       "      <th>22</th>\n",
       "      <td>Minami Kuribayashi - Super Affection</td>\n",
       "      <td>270</td>\n",
       "    </tr>\n",
       "    <tr>\n",
       "      <th>23</th>\n",
       "      <td>Boku no Pico - Don't Listen to a Hardstyle son...</td>\n",
       "      <td>270</td>\n",
       "    </tr>\n",
       "    <tr>\n",
       "      <th>24</th>\n",
       "      <td>Silver Forest - Tsurupettan</td>\n",
       "      <td>268</td>\n",
       "    </tr>\n",
       "  </tbody>\n",
       "</table>\n",
       "</div>"
      ],
      "text/plain": [
       "                                            song_name  play counts\n",
       "0                                       FLOW - COLORS          669\n",
       "1                            Supercell - Feel so good          508\n",
       "2                       Seira Kagami - Super Special           393\n",
       "3                                #comiket - trainroll          367\n",
       "4   Sporty-O feat. Akemi Homura - I want my UNTZ back          333\n",
       "5                          Carlito - GO! GO! CARLITO!          333\n",
       "6                             Supercell - LOVE & ROLL          327\n",
       "7                              supercell - My Dearest          327\n",
       "8               JIMANG - la divina tragedia ~Makyoku~          320\n",
       "9              Pearl Kyoudai - Youkoso! Hitori Bocchi          315\n",
       "10                                 Lucy Rose - Shiver          310\n",
       "11  Yamazaki Masayoshi - One More Time, One More C...          306\n",
       "12                             Dave Rodgers - Deja vu          305\n",
       "13                            アフィリア・サーガ - ネプチューヌ☆サガして          301\n",
       "14                     Utada Hikaru - Beautiful World          293\n",
       "15                     3L - MyonMyonMyonMyonMyonMyon!          287\n",
       "16         Nothing's Carved in Stone - Out of Control          284\n",
       "17                                  nothing - nothing          284\n",
       "18                     Abingdon Boys School - Howling          283\n",
       "19                            Kaneda Tomoko - Ganbara          279\n",
       "20                          Queen - Don't Stop Me Now          277\n",
       "21                         fripSide - only my railgun          272\n",
       "22               Minami Kuribayashi - Super Affection          270\n",
       "23  Boku no Pico - Don't Listen to a Hardstyle son...          270\n",
       "24                        Silver Forest - Tsurupettan          268"
      ]
     },
     "execution_count": 4,
     "metadata": {},
     "output_type": "execute_result"
    }
   ],
   "source": [
    "songs = df.name.value_counts().rename_axis('song_name').reset_index(name='play counts')\n",
    "\n",
    "print(f'A total of {len(songs)} unique songs have been played on r/a/dio')\n",
    "\n",
    "songs.head(25)"
   ]
  },
  {
   "cell_type": "code",
   "execution_count": 5,
   "metadata": {
    "collapsed": false
   },
   "outputs": [
    {
     "name": "stdout",
     "output_type": "stream",
     "text": [
      "Some play count stats\n"
     ]
    },
    {
     "data": {
      "text/html": [
       "<div>\n",
       "<style>\n",
       "    .dataframe thead tr:only-child th {\n",
       "        text-align: right;\n",
       "    }\n",
       "\n",
       "    .dataframe thead th {\n",
       "        text-align: left;\n",
       "    }\n",
       "\n",
       "    .dataframe tbody tr th {\n",
       "        vertical-align: top;\n",
       "    }\n",
       "</style>\n",
       "<table border=\"1\" class=\"dataframe\">\n",
       "  <thead>\n",
       "    <tr style=\"text-align: right;\">\n",
       "      <th></th>\n",
       "      <th>play counts</th>\n",
       "    </tr>\n",
       "  </thead>\n",
       "  <tbody>\n",
       "    <tr>\n",
       "      <th>count</th>\n",
       "      <td>84122.000000</td>\n",
       "    </tr>\n",
       "    <tr>\n",
       "      <th>mean</th>\n",
       "      <td>8.710551</td>\n",
       "    </tr>\n",
       "    <tr>\n",
       "      <th>std</th>\n",
       "      <td>20.979250</td>\n",
       "    </tr>\n",
       "    <tr>\n",
       "      <th>min</th>\n",
       "      <td>1.000000</td>\n",
       "    </tr>\n",
       "    <tr>\n",
       "      <th>25%</th>\n",
       "      <td>1.000000</td>\n",
       "    </tr>\n",
       "    <tr>\n",
       "      <th>50%</th>\n",
       "      <td>1.000000</td>\n",
       "    </tr>\n",
       "    <tr>\n",
       "      <th>75%</th>\n",
       "      <td>4.000000</td>\n",
       "    </tr>\n",
       "    <tr>\n",
       "      <th>max</th>\n",
       "      <td>669.000000</td>\n",
       "    </tr>\n",
       "  </tbody>\n",
       "</table>\n",
       "</div>"
      ],
      "text/plain": [
       "        play counts\n",
       "count  84122.000000\n",
       "mean       8.710551\n",
       "std       20.979250\n",
       "min        1.000000\n",
       "25%        1.000000\n",
       "50%        1.000000\n",
       "75%        4.000000\n",
       "max      669.000000"
      ]
     },
     "execution_count": 5,
     "metadata": {},
     "output_type": "execute_result"
    }
   ],
   "source": [
    "print('Some play count stats')\n",
    "songs.describe()"
   ]
  },
  {
   "cell_type": "code",
   "execution_count": 6,
   "metadata": {
    "collapsed": false
   },
   "outputs": [
    {
     "data": {
      "image/png": "[encoded data removed]",
      "text/plain": [
       "<matplotlib.figure.Figure at 0x7fe3044050b8>"
      ]
     },
     "metadata": {},
     "output_type": "display_data"
    }
   ],
   "source": [
    "ax = plt.subplot()\n",
    "ax.set_yscale('symlog')\n",
    "ax.hist(songs['play counts'], bins=100)\n",
    "ax.set_ylabel('number of songs')\n",
    "ax.set_title('How many songs were played N times?')\n",
    "_ = ax.set_xlabel('play count')"
   ]
  },
  {
   "cell_type": "code",
   "execution_count": 53,
   "metadata": {
    "collapsed": true
   },
   "outputs": [],
   "source": [
    "grouped = df.groupby('name')\n",
    "\n",
    "time_stats = grouped.time.agg(['min', 'max', 'count'])\n",
    "time_stats['dif'] = time_stats['max'] - time_stats['min']\n",
    "time_stats['freq'] = time_stats['dif'] / time_stats['count']\n",
    "time_stats.columns = ['First played', 'Last played', 'count', 'dif', 'freq']"
   ]
  },
  {
   "cell_type": "markdown",
   "metadata": {},
   "source": [
    "Most frequently played songs with count > 20 and difference between the first \\\n",
    "and the last plays > 7 days to remove outliers"
   ]
  },
  {
   "cell_type": "code",
   "execution_count": 70,
   "metadata": {
    "collapsed": false
   },
   "outputs": [
    {
     "data": {
      "text/html": [
       "<div>\n",
       "<style>\n",
       "    .dataframe thead tr:only-child th {\n",
       "        text-align: right;\n",
       "    }\n",
       "\n",
       "    .dataframe thead th {\n",
       "        text-align: left;\n",
       "    }\n",
       "\n",
       "    .dataframe tbody tr th {\n",
       "        vertical-align: top;\n",
       "    }\n",
       "</style>\n",
       "<table border=\"1\" class=\"dataframe\">\n",
       "  <thead>\n",
       "    <tr style=\"text-align: right;\">\n",
       "      <th></th>\n",
       "      <th>First played</th>\n",
       "      <th>Last played</th>\n",
       "      <th>count</th>\n",
       "      <th>dif</th>\n",
       "      <th>freq</th>\n",
       "    </tr>\n",
       "    <tr>\n",
       "      <th>name</th>\n",
       "      <th></th>\n",
       "      <th></th>\n",
       "      <th></th>\n",
       "      <th></th>\n",
       "      <th></th>\n",
       "    </tr>\n",
       "  </thead>\n",
       "  <tbody>\n",
       "    <tr>\n",
       "      <th>どうぶつビスケッツ×PPP - ようこそジャパリパークへ</th>\n",
       "      <td>2017-03-06 00:04:05</td>\n",
       "      <td>2018-02-12 05:26:56</td>\n",
       "      <td>123</td>\n",
       "      <td>343 days 05:22:51</td>\n",
       "      <td>2 days 18:58:14.073170</td>\n",
       "    </tr>\n",
       "    <tr>\n",
       "      <th>Iguchi Yuka - Platinum Disco ~TV Size~</th>\n",
       "      <td>2012-04-02 00:22:15</td>\n",
       "      <td>2012-07-18 02:46:44</td>\n",
       "      <td>33</td>\n",
       "      <td>107 days 02:24:29</td>\n",
       "      <td>3 days 05:53:28.151515</td>\n",
       "    </tr>\n",
       "    <tr>\n",
       "      <th>FLOW - COLORS</th>\n",
       "      <td>2012-01-08 22:54:06</td>\n",
       "      <td>2018-02-12 05:59:59</td>\n",
       "      <td>669</td>\n",
       "      <td>2226 days 07:05:53</td>\n",
       "      <td>3 days 07:52:01.603886</td>\n",
       "    </tr>\n",
       "    <tr>\n",
       "      <th>Yakushimaru Etsuko &amp; Metro Orchestra - Nornir</th>\n",
       "      <td>2012-01-12 08:13:19</td>\n",
       "      <td>2012-08-18 16:57:39</td>\n",
       "      <td>65</td>\n",
       "      <td>219 days 08:44:20</td>\n",
       "      <td>3 days 08:59:45.538461</td>\n",
       "    </tr>\n",
       "    <tr>\n",
       "      <th>ろん &amp; Gero - PONPONPON</th>\n",
       "      <td>2012-01-26 19:10:10</td>\n",
       "      <td>2013-03-04 05:38:51</td>\n",
       "      <td>115</td>\n",
       "      <td>402 days 10:28:41</td>\n",
       "      <td>3 days 11:59:12.356521</td>\n",
       "    </tr>\n",
       "    <tr>\n",
       "      <th>ろん - PONPONPON</th>\n",
       "      <td>2012-01-20 21:26:14</td>\n",
       "      <td>2013-01-06 21:09:35</td>\n",
       "      <td>95</td>\n",
       "      <td>351 days 23:43:21</td>\n",
       "      <td>3 days 16:55:24.221052</td>\n",
       "    </tr>\n",
       "    <tr>\n",
       "      <th>Detroit Metal City -  Death Penis</th>\n",
       "      <td>2011-12-28 12:43:55</td>\n",
       "      <td>2012-03-31 14:50:55</td>\n",
       "      <td>24</td>\n",
       "      <td>94 days 02:07:00</td>\n",
       "      <td>3 days 22:05:17.500000</td>\n",
       "    </tr>\n",
       "    <tr>\n",
       "      <th>Bad Apple!!</th>\n",
       "      <td>2012-01-14 05:43:01</td>\n",
       "      <td>2012-09-14 07:46:43</td>\n",
       "      <td>59</td>\n",
       "      <td>244 days 02:03:42</td>\n",
       "      <td>4 days 03:17:21.050847</td>\n",
       "    </tr>\n",
       "    <tr>\n",
       "      <th>MAN WITH A MISSION - My Hero</th>\n",
       "      <td>2017-11-02 22:47:58</td>\n",
       "      <td>2018-02-06 21:13:07</td>\n",
       "      <td>23</td>\n",
       "      <td>95 days 22:25:09</td>\n",
       "      <td>4 days 04:06:18.652173</td>\n",
       "    </tr>\n",
       "    <tr>\n",
       "      <th>Supercell - Feel so good</th>\n",
       "      <td>2011-12-14 00:02:36</td>\n",
       "      <td>2018-02-14 06:19:45</td>\n",
       "      <td>508</td>\n",
       "      <td>2254 days 06:17:09</td>\n",
       "      <td>4 days 10:30:02.025590</td>\n",
       "    </tr>\n",
       "  </tbody>\n",
       "</table>\n",
       "</div>"
      ],
      "text/plain": [
       "                                                     First played  \\\n",
       "name                                                                \n",
       "どうぶつビスケッツ×PPP - ようこそジャパリパークへ                  2017-03-06 00:04:05   \n",
       "Iguchi Yuka - Platinum Disco ~TV Size~        2012-04-02 00:22:15   \n",
       "FLOW - COLORS                                 2012-01-08 22:54:06   \n",
       "Yakushimaru Etsuko & Metro Orchestra - Nornir 2012-01-12 08:13:19   \n",
       "ろん & Gero - PONPONPON                         2012-01-26 19:10:10   \n",
       "ろん - PONPONPON                                2012-01-20 21:26:14   \n",
       "Detroit Metal City -  Death Penis             2011-12-28 12:43:55   \n",
       "Bad Apple!!                                   2012-01-14 05:43:01   \n",
       "MAN WITH A MISSION - My Hero                  2017-11-02 22:47:58   \n",
       "Supercell - Feel so good                      2011-12-14 00:02:36   \n",
       "\n",
       "                                                      Last played  count  \\\n",
       "name                                                                       \n",
       "どうぶつビスケッツ×PPP - ようこそジャパリパークへ                  2018-02-12 05:26:56    123   \n",
       "Iguchi Yuka - Platinum Disco ~TV Size~        2012-07-18 02:46:44     33   \n",
       "FLOW - COLORS                                 2018-02-12 05:59:59    669   \n",
       "Yakushimaru Etsuko & Metro Orchestra - Nornir 2012-08-18 16:57:39     65   \n",
       "ろん & Gero - PONPONPON                         2013-03-04 05:38:51    115   \n",
       "ろん - PONPONPON                                2013-01-06 21:09:35     95   \n",
       "Detroit Metal City -  Death Penis             2012-03-31 14:50:55     24   \n",
       "Bad Apple!!                                   2012-09-14 07:46:43     59   \n",
       "MAN WITH A MISSION - My Hero                  2018-02-06 21:13:07     23   \n",
       "Supercell - Feel so good                      2018-02-14 06:19:45    508   \n",
       "\n",
       "                                                             dif  \\\n",
       "name                                                               \n",
       "どうぶつビスケッツ×PPP - ようこそジャパリパークへ                   343 days 05:22:51   \n",
       "Iguchi Yuka - Platinum Disco ~TV Size~         107 days 02:24:29   \n",
       "FLOW - COLORS                                 2226 days 07:05:53   \n",
       "Yakushimaru Etsuko & Metro Orchestra - Nornir  219 days 08:44:20   \n",
       "ろん & Gero - PONPONPON                          402 days 10:28:41   \n",
       "ろん - PONPONPON                                 351 days 23:43:21   \n",
       "Detroit Metal City -  Death Penis               94 days 02:07:00   \n",
       "Bad Apple!!                                    244 days 02:03:42   \n",
       "MAN WITH A MISSION - My Hero                    95 days 22:25:09   \n",
       "Supercell - Feel so good                      2254 days 06:17:09   \n",
       "\n",
       "                                                                freq  \n",
       "name                                                                  \n",
       "どうぶつビスケッツ×PPP - ようこそジャパリパークへ                  2 days 18:58:14.073170  \n",
       "Iguchi Yuka - Platinum Disco ~TV Size~        3 days 05:53:28.151515  \n",
       "FLOW - COLORS                                 3 days 07:52:01.603886  \n",
       "Yakushimaru Etsuko & Metro Orchestra - Nornir 3 days 08:59:45.538461  \n",
       "ろん & Gero - PONPONPON                         3 days 11:59:12.356521  \n",
       "ろん - PONPONPON                                3 days 16:55:24.221052  \n",
       "Detroit Metal City -  Death Penis             3 days 22:05:17.500000  \n",
       "Bad Apple!!                                   4 days 03:17:21.050847  \n",
       "MAN WITH A MISSION - My Hero                  4 days 04:06:18.652173  \n",
       "Supercell - Feel so good                      4 days 10:30:02.025590  "
      ]
     },
     "execution_count": 70,
     "metadata": {},
     "output_type": "execute_result"
    }
   ],
   "source": [
    "time_stats[(time_stats['count'] > 20) & (time_stats['dif'] > pd.Timedelta(7, 'D'))].sort_values('freq').head(10)"
   ]
  },
  {
   "cell_type": "markdown",
   "metadata": {},
   "source": [
    "Colors have been played since 2012 every 3 days..."
   ]
  },
  {
   "cell_type": "code",
   "execution_count": 56,
   "metadata": {
    "collapsed": false
   },
   "outputs": [
    {
     "name": "stdout",
     "output_type": "stream",
     "text": [
      "Most infrequently played with play count > 1\n"
     ]
    },
    {
     "data": {
      "text/html": [
       "<div>\n",
       "<style>\n",
       "    .dataframe thead tr:only-child th {\n",
       "        text-align: right;\n",
       "    }\n",
       "\n",
       "    .dataframe thead th {\n",
       "        text-align: left;\n",
       "    }\n",
       "\n",
       "    .dataframe tbody tr th {\n",
       "        vertical-align: top;\n",
       "    }\n",
       "</style>\n",
       "<table border=\"1\" class=\"dataframe\">\n",
       "  <thead>\n",
       "    <tr style=\"text-align: right;\">\n",
       "      <th></th>\n",
       "      <th>First played</th>\n",
       "      <th>Last played</th>\n",
       "      <th>count</th>\n",
       "      <th>dif</th>\n",
       "      <th>freq</th>\n",
       "    </tr>\n",
       "    <tr>\n",
       "      <th>name</th>\n",
       "      <th></th>\n",
       "      <th></th>\n",
       "      <th></th>\n",
       "      <th></th>\n",
       "      <th></th>\n",
       "    </tr>\n",
       "  </thead>\n",
       "  <tbody>\n",
       "    <tr>\n",
       "      <th>Tokyo Brass Style - 21st Century Girls</th>\n",
       "      <td>2011-11-11 10:44:51</td>\n",
       "      <td>2018-02-04 02:20:18</td>\n",
       "      <td>2</td>\n",
       "      <td>2276 days 15:35:27</td>\n",
       "      <td>1138 days 07:47:43.500000</td>\n",
       "    </tr>\n",
       "    <tr>\n",
       "      <th>NUMBER 201 - Lorelei</th>\n",
       "      <td>2011-11-20 05:23:57</td>\n",
       "      <td>2018-02-04 10:47:39</td>\n",
       "      <td>2</td>\n",
       "      <td>2268 days 05:23:42</td>\n",
       "      <td>1134 days 02:41:51</td>\n",
       "    </tr>\n",
       "    <tr>\n",
       "      <th>Nujabes - Summer Gypsy</th>\n",
       "      <td>2011-12-03 17:00:38</td>\n",
       "      <td>2018-02-07 23:21:33</td>\n",
       "      <td>2</td>\n",
       "      <td>2258 days 06:20:55</td>\n",
       "      <td>1129 days 03:10:27.500000</td>\n",
       "    </tr>\n",
       "    <tr>\n",
       "      <th>Kawada Mami - See visionS</th>\n",
       "      <td>2011-11-21 00:34:46</td>\n",
       "      <td>2018-01-20 01:31:08</td>\n",
       "      <td>2</td>\n",
       "      <td>2252 days 00:56:22</td>\n",
       "      <td>1126 days 00:28:11</td>\n",
       "    </tr>\n",
       "    <tr>\n",
       "      <th>Aya Hirano - God Knows</th>\n",
       "      <td>2011-12-09 16:59:21</td>\n",
       "      <td>2018-01-27 02:10:17</td>\n",
       "      <td>2</td>\n",
       "      <td>2240 days 09:10:56</td>\n",
       "      <td>1120 days 04:35:28</td>\n",
       "    </tr>\n",
       "    <tr>\n",
       "      <th>Blazo - Clever Red</th>\n",
       "      <td>2011-12-19 01:01:40</td>\n",
       "      <td>2018-02-04 04:08:32</td>\n",
       "      <td>2</td>\n",
       "      <td>2239 days 03:06:52</td>\n",
       "      <td>1119 days 13:33:26</td>\n",
       "    </tr>\n",
       "    <tr>\n",
       "      <th>イワクラコマキ - narciso</th>\n",
       "      <td>2011-11-22 07:09:48</td>\n",
       "      <td>2017-12-12 01:39:22</td>\n",
       "      <td>2</td>\n",
       "      <td>2211 days 18:29:34</td>\n",
       "      <td>1105 days 21:14:47</td>\n",
       "    </tr>\n",
       "    <tr>\n",
       "      <th>イワクラコマキ - voyage Gothic Bold</th>\n",
       "      <td>2011-11-22 07:35:40</td>\n",
       "      <td>2017-12-12 00:41:46</td>\n",
       "      <td>2</td>\n",
       "      <td>2211 days 17:06:06</td>\n",
       "      <td>1105 days 20:33:03</td>\n",
       "    </tr>\n",
       "    <tr>\n",
       "      <th>gatou - In The Shade</th>\n",
       "      <td>2011-11-22 19:48:36</td>\n",
       "      <td>2017-12-12 00:49:55</td>\n",
       "      <td>2</td>\n",
       "      <td>2211 days 05:01:19</td>\n",
       "      <td>1105 days 14:30:39.500000</td>\n",
       "    </tr>\n",
       "    <tr>\n",
       "      <th>イワクラコマキ - Un Fiore Rosa (TakeB1)</th>\n",
       "      <td>2011-11-22 20:01:43</td>\n",
       "      <td>2017-12-12 00:56:33</td>\n",
       "      <td>2</td>\n",
       "      <td>2211 days 04:54:50</td>\n",
       "      <td>1105 days 14:27:25</td>\n",
       "    </tr>\n",
       "  </tbody>\n",
       "</table>\n",
       "</div>"
      ],
      "text/plain": [
       "                                              First played  \\\n",
       "name                                                         \n",
       "Tokyo Brass Style - 21st Century Girls 2011-11-11 10:44:51   \n",
       "NUMBER 201 - Lorelei                   2011-11-20 05:23:57   \n",
       "Nujabes - Summer Gypsy                 2011-12-03 17:00:38   \n",
       "Kawada Mami - See visionS              2011-11-21 00:34:46   \n",
       "Aya Hirano - God Knows                 2011-12-09 16:59:21   \n",
       "Blazo - Clever Red                     2011-12-19 01:01:40   \n",
       "イワクラコマキ - narciso                      2011-11-22 07:09:48   \n",
       "イワクラコマキ - voyage Gothic Bold           2011-11-22 07:35:40   \n",
       "gatou - In The Shade                   2011-11-22 19:48:36   \n",
       "イワクラコマキ - Un Fiore Rosa (TakeB1)       2011-11-22 20:01:43   \n",
       "\n",
       "                                               Last played  count  \\\n",
       "name                                                                \n",
       "Tokyo Brass Style - 21st Century Girls 2018-02-04 02:20:18      2   \n",
       "NUMBER 201 - Lorelei                   2018-02-04 10:47:39      2   \n",
       "Nujabes - Summer Gypsy                 2018-02-07 23:21:33      2   \n",
       "Kawada Mami - See visionS              2018-01-20 01:31:08      2   \n",
       "Aya Hirano - God Knows                 2018-01-27 02:10:17      2   \n",
       "Blazo - Clever Red                     2018-02-04 04:08:32      2   \n",
       "イワクラコマキ - narciso                      2017-12-12 01:39:22      2   \n",
       "イワクラコマキ - voyage Gothic Bold           2017-12-12 00:41:46      2   \n",
       "gatou - In The Shade                   2017-12-12 00:49:55      2   \n",
       "イワクラコマキ - Un Fiore Rosa (TakeB1)       2017-12-12 00:56:33      2   \n",
       "\n",
       "                                                      dif  \\\n",
       "name                                                        \n",
       "Tokyo Brass Style - 21st Century Girls 2276 days 15:35:27   \n",
       "NUMBER 201 - Lorelei                   2268 days 05:23:42   \n",
       "Nujabes - Summer Gypsy                 2258 days 06:20:55   \n",
       "Kawada Mami - See visionS              2252 days 00:56:22   \n",
       "Aya Hirano - God Knows                 2240 days 09:10:56   \n",
       "Blazo - Clever Red                     2239 days 03:06:52   \n",
       "イワクラコマキ - narciso                      2211 days 18:29:34   \n",
       "イワクラコマキ - voyage Gothic Bold           2211 days 17:06:06   \n",
       "gatou - In The Shade                   2211 days 05:01:19   \n",
       "イワクラコマキ - Un Fiore Rosa (TakeB1)       2211 days 04:54:50   \n",
       "\n",
       "                                                            freq  \n",
       "name                                                              \n",
       "Tokyo Brass Style - 21st Century Girls 1138 days 07:47:43.500000  \n",
       "NUMBER 201 - Lorelei                          1134 days 02:41:51  \n",
       "Nujabes - Summer Gypsy                 1129 days 03:10:27.500000  \n",
       "Kawada Mami - See visionS                     1126 days 00:28:11  \n",
       "Aya Hirano - God Knows                        1120 days 04:35:28  \n",
       "Blazo - Clever Red                            1119 days 13:33:26  \n",
       "イワクラコマキ - narciso                             1105 days 21:14:47  \n",
       "イワクラコマキ - voyage Gothic Bold                  1105 days 20:33:03  \n",
       "gatou - In The Shade                   1105 days 14:30:39.500000  \n",
       "イワクラコマキ - Un Fiore Rosa (TakeB1)              1105 days 14:27:25  "
      ]
     },
     "execution_count": 56,
     "metadata": {},
     "output_type": "execute_result"
    }
   ],
   "source": [
    "print('Most infrequently played with play count > 1')\n",
    "time_stats.sort_values('freq', ascending=False).head(10)"
   ]
  },
  {
   "cell_type": "markdown",
   "metadata": {},
   "source": [
    "New songs by year"
   ]
  },
  {
   "cell_type": "code",
   "execution_count": 69,
   "metadata": {
    "collapsed": false
   },
   "outputs": [
    {
     "data": {
      "image/png": "[encoded data removed]",
      "text/plain": [
       "<matplotlib.figure.Figure at 0x7fe2ac75a860>"
      ]
     },
     "metadata": {},
     "output_type": "display_data"
    }
   ],
   "source": [
    "fig, (ax1,ax2) = plt.subplots(ncols=2, figsize=(14, 5), sharey=True)\n",
    "\n",
    "counts = time_stats.groupby(time_stats['First played'].dt.year).count()\n",
    "ax = counts.plot(y='count', kind='bar', legend=False, ax=ax1)\n",
    "ax.set_title('Number of songs played for the first time depending on year')\n",
    "_ = ax.set(xlabel=\"year\", ylabel=\"number\")\n",
    "\n",
    "counts = time_stats.groupby(time_stats['Last played'].dt.year).count()\n",
    "ax = counts.plot(y='count', kind='bar', legend=False, ax=ax2)\n",
    "ax.set_title('Number of songs played for the last time depending on year')\n",
    "_ = ax.set(xlabel=\"year\", ylabel=\"number\")\n"
   ]
  },
  {
   "cell_type": "markdown",
   "metadata": {},
   "source": [
    "It seems each year about ~10000 new songs are added and similar number is retired"
   ]
  },
  {
   "cell_type": "markdown",
   "metadata": {},
   "source": [
    "### song trends"
   ]
  },
  {
   "cell_type": "code",
   "execution_count": 188,
   "metadata": {
    "collapsed": false
   },
   "outputs": [
    {
     "name": "stdout",
     "output_type": "stream",
     "text": [
      "Identify trends (becomes more/less popular with time) for songs with play count > 50\n",
      "There are 3357 such songs\n"
     ]
    }
   ],
   "source": [
    "min_play_count = 50\n",
    "print(f\"Identify trends (becomes more/less popular with time) for songs with play count > {min_play_count}\")\n",
    "print(f\"There are {len(songs[songs['play counts'] > min_play_count])} such songs\")"
   ]
  },
  {
   "cell_type": "code",
   "execution_count": 197,
   "metadata": {
    "collapsed": false
   },
   "outputs": [
    {
     "name": "stderr",
     "output_type": "stream",
     "text": [
      "100%|██████████| 3357/3357 [03:59<00:00, 14.05it/s]\n"
     ]
    }
   ],
   "source": [
    "begin = df.time.min()\n",
    "end = df.time.max()\n",
    "dates_range = pd.date_range(start=begin, end=end, freq='7D')\n",
    "\n",
    "trends_df = []\n",
    "\n",
    "for song_name in tqdm(songs[songs['play counts'] > min_play_count].song_name):\n",
    "    tmpdf = df[df.name==song_name].set_index('time')\n",
    "    counts = tmpdf.groupby(pd.cut(tmpdf.index, dates_range)).count()\n",
    "    trend = np.corrcoef(np.arange(len(counts)), counts.name)[0,1]\n",
    "    trends_df.append((song_name, trend))\n",
    "    \n",
    "trends_df = pd.DataFrame(trends_df, columns=['name', 'trend'])\n",
    "trends_df.sort_values('trend', ascending=False, inplace=True)\n"
   ]
  },
  {
   "cell_type": "code",
   "execution_count": 215,
   "metadata": {
    "collapsed": false
   },
   "outputs": [
    {
     "name": "stdout",
     "output_type": "stream",
     "text": [
      "Songs on the rise\n"
     ]
    },
    {
     "data": {
      "text/html": [
       "<div>\n",
       "<style>\n",
       "    .dataframe thead tr:only-child th {\n",
       "        text-align: right;\n",
       "    }\n",
       "\n",
       "    .dataframe thead th {\n",
       "        text-align: left;\n",
       "    }\n",
       "\n",
       "    .dataframe tbody tr th {\n",
       "        vertical-align: top;\n",
       "    }\n",
       "</style>\n",
       "<table border=\"1\" class=\"dataframe\">\n",
       "  <thead>\n",
       "    <tr style=\"text-align: right;\">\n",
       "      <th></th>\n",
       "      <th>name</th>\n",
       "      <th>trend</th>\n",
       "    </tr>\n",
       "  </thead>\n",
       "  <tbody>\n",
       "    <tr>\n",
       "      <th>242</th>\n",
       "      <td>MAN WITH A MISSION - Raise your flag</td>\n",
       "      <td>0.608329</td>\n",
       "    </tr>\n",
       "    <tr>\n",
       "      <th>19</th>\n",
       "      <td>Kaneda Tomoko - Ganbara</td>\n",
       "      <td>0.596874</td>\n",
       "    </tr>\n",
       "    <tr>\n",
       "      <th>13</th>\n",
       "      <td>アフィリア・サーガ - ネプチューヌ☆サガして</td>\n",
       "      <td>0.593907</td>\n",
       "    </tr>\n",
       "    <tr>\n",
       "      <th>176</th>\n",
       "      <td>Manuel - Gas Gas Gas</td>\n",
       "      <td>0.577063</td>\n",
       "    </tr>\n",
       "    <tr>\n",
       "      <th>235</th>\n",
       "      <td>BRADIO - Flyers</td>\n",
       "      <td>0.558439</td>\n",
       "    </tr>\n",
       "  </tbody>\n",
       "</table>\n",
       "</div>"
      ],
      "text/plain": [
       "                                     name     trend\n",
       "242  MAN WITH A MISSION - Raise your flag  0.608329\n",
       "19                Kaneda Tomoko - Ganbara  0.596874\n",
       "13                アフィリア・サーガ - ネプチューヌ☆サガして  0.593907\n",
       "176                  Manuel - Gas Gas Gas  0.577063\n",
       "235                       BRADIO - Flyers  0.558439"
      ]
     },
     "execution_count": 215,
     "metadata": {},
     "output_type": "execute_result"
    },
    {
     "data": {
      "image/png": "[encoded data removed]",
      "text/plain": [
       "<matplotlib.figure.Figure at 0x7fe2ac5dc358>"
      ]
     },
     "metadata": {},
     "output_type": "display_data"
    }
   ],
   "source": [
    "print('Songs on the rise')\n",
    "\n",
    "extended_range = pd.date_range(start=begin, end=end, freq='100D')\n",
    "plt.figure(figsize=(12, 4))\n",
    "for song_name in trends_df.name[:5]:\n",
    "    tmpdf = df[df.name==song_name].set_index('time')\n",
    "    counts = tmpdf.groupby(pd.cut(tmpdf.index, extended_range)).count()\n",
    "    plt.plot(extended_range[:-1], counts.name, label=song_name)\n",
    "plt.legend()\n",
    "\n",
    "trends_df.head()\n"
   ]
  },
  {
   "cell_type": "code",
   "execution_count": 216,
   "metadata": {
    "collapsed": false
   },
   "outputs": [
    {
     "name": "stdout",
     "output_type": "stream",
     "text": [
      "Songs on the decline\n"
     ]
    },
    {
     "data": {
      "text/html": [
       "<div>\n",
       "<style>\n",
       "    .dataframe thead tr:only-child th {\n",
       "        text-align: right;\n",
       "    }\n",
       "\n",
       "    .dataframe thead th {\n",
       "        text-align: left;\n",
       "    }\n",
       "\n",
       "    .dataframe tbody tr th {\n",
       "        vertical-align: top;\n",
       "    }\n",
       "</style>\n",
       "<table border=\"1\" class=\"dataframe\">\n",
       "  <thead>\n",
       "    <tr style=\"text-align: right;\">\n",
       "      <th></th>\n",
       "      <th>name</th>\n",
       "      <th>trend</th>\n",
       "    </tr>\n",
       "  </thead>\n",
       "  <tbody>\n",
       "    <tr>\n",
       "      <th>469</th>\n",
       "      <td>Yui Horie - Sugar Sweet Nightmare</td>\n",
       "      <td>-0.515089</td>\n",
       "    </tr>\n",
       "    <tr>\n",
       "      <th>362</th>\n",
       "      <td>Yui Horie, Yukari Tamura - Nano Desu</td>\n",
       "      <td>-0.530255</td>\n",
       "    </tr>\n",
       "    <tr>\n",
       "      <th>250</th>\n",
       "      <td>boa - Duvet</td>\n",
       "      <td>-0.543946</td>\n",
       "    </tr>\n",
       "    <tr>\n",
       "      <th>701</th>\n",
       "      <td>Kugimiya Rie &amp; Kitamura Eri &amp; Horie Yui - Pre-...</td>\n",
       "      <td>-0.567800</td>\n",
       "    </tr>\n",
       "    <tr>\n",
       "      <th>520</th>\n",
       "      <td>Chiwa Saitou - staple stable</td>\n",
       "      <td>-0.586794</td>\n",
       "    </tr>\n",
       "  </tbody>\n",
       "</table>\n",
       "</div>"
      ],
      "text/plain": [
       "                                                  name     trend\n",
       "469                 Yui Horie - Sugar Sweet Nightmare  -0.515089\n",
       "362               Yui Horie, Yukari Tamura - Nano Desu -0.530255\n",
       "250                                        boa - Duvet -0.543946\n",
       "701  Kugimiya Rie & Kitamura Eri & Horie Yui - Pre-... -0.567800\n",
       "520                       Chiwa Saitou - staple stable -0.586794"
      ]
     },
     "execution_count": 216,
     "metadata": {},
     "output_type": "execute_result"
    },
    {
     "data": {
      "image/png": "[encoded data removed]",
      "text/plain": [
       "<matplotlib.figure.Figure at 0x7fe2ab7ef518>"
      ]
     },
     "metadata": {},
     "output_type": "display_data"
    }
   ],
   "source": [
    "print('Songs on the decline')\n",
    "\n",
    "extended_range = pd.date_range(start=begin, end=end, freq='100D')\n",
    "plt.figure(figsize=(12, 4))\n",
    "for song_name in trends_df.name[-5:]:\n",
    "    tmpdf = df[df.name==song_name].set_index('time')\n",
    "    counts = tmpdf.groupby(pd.cut(tmpdf.index, extended_range)).count()\n",
    "    plt.plot(extended_range[:-1], counts.name, label=song_name)\n",
    "plt.legend()\n",
    "\n",
    "trends_df.tail()\n"
   ]
  },
  {
   "cell_type": "code",
   "execution_count": 223,
   "metadata": {
    "collapsed": false
   },
   "outputs": [
    {
     "name": "stdout",
     "output_type": "stream",
     "text": [
      "Almost constant interest\n"
     ]
    },
    {
     "data": {
      "text/html": [
       "<div>\n",
       "<style>\n",
       "    .dataframe thead tr:only-child th {\n",
       "        text-align: right;\n",
       "    }\n",
       "\n",
       "    .dataframe thead th {\n",
       "        text-align: left;\n",
       "    }\n",
       "\n",
       "    .dataframe tbody tr th {\n",
       "        vertical-align: top;\n",
       "    }\n",
       "</style>\n",
       "<table border=\"1\" class=\"dataframe\">\n",
       "  <thead>\n",
       "    <tr style=\"text-align: right;\">\n",
       "      <th></th>\n",
       "      <th>name</th>\n",
       "      <th>trend</th>\n",
       "    </tr>\n",
       "  </thead>\n",
       "  <tbody>\n",
       "    <tr>\n",
       "      <th>346</th>\n",
       "      <td>Hirano Aya - Pizzzzzzza !!!!!!!</td>\n",
       "      <td>0.000000</td>\n",
       "    </tr>\n",
       "    <tr>\n",
       "      <th>1729</th>\n",
       "      <td>Shiro Sagisu - Kanon D-dur (Quartet)</td>\n",
       "      <td>-0.000072</td>\n",
       "    </tr>\n",
       "    <tr>\n",
       "      <th>2200</th>\n",
       "      <td>Spyair - Last Moment</td>\n",
       "      <td>0.000077</td>\n",
       "    </tr>\n",
       "    <tr>\n",
       "      <th>1105</th>\n",
       "      <td>T.M.Revolution - INVOKE</td>\n",
       "      <td>-0.000131</td>\n",
       "    </tr>\n",
       "    <tr>\n",
       "      <th>1700</th>\n",
       "      <td>T.M.Revolution - Ignited</td>\n",
       "      <td>-0.000148</td>\n",
       "    </tr>\n",
       "  </tbody>\n",
       "</table>\n",
       "</div>"
      ],
      "text/plain": [
       "                                      name     trend\n",
       "346        Hirano Aya - Pizzzzzzza !!!!!!!  0.000000\n",
       "1729  Shiro Sagisu - Kanon D-dur (Quartet) -0.000072\n",
       "2200                  Spyair - Last Moment  0.000077\n",
       "1105               T.M.Revolution - INVOKE -0.000131\n",
       "1700              T.M.Revolution - Ignited -0.000148"
      ]
     },
     "execution_count": 223,
     "metadata": {},
     "output_type": "execute_result"
    },
    {
     "data": {
      "image/png": "[encoded data removed]",
      "text/plain": [
       "<matplotlib.figure.Figure at 0x7fe2ab6f8320>"
      ]
     },
     "metadata": {},
     "output_type": "display_data"
    }
   ],
   "source": [
    "print('Almost constant interest')\n",
    "const_int = trends_df.iloc[np.argsort(np.abs(trends_df.trend))]\n",
    "\n",
    "plt.figure(figsize=(12, 4))\n",
    "for song_name in const_int.name[:5]:\n",
    "    tmpdf = df[df.name==song_name].set_index('time')\n",
    "    counts = tmpdf.groupby(pd.cut(tmpdf.index, extended_range)).count()\n",
    "    plt.plot(extended_range[:-1], counts.name, label=song_name)\n",
    "plt.legend()\n",
    "\n",
    "const_int.head()\n"
   ]
  },
  {
   "cell_type": "markdown",
   "metadata": {},
   "source": [
    "### Top artists"
   ]
  },
  {
   "cell_type": "code",
   "execution_count": 8,
   "metadata": {
    "collapsed": false
   },
   "outputs": [
    {
     "name": "stdout",
     "output_type": "stream",
     "text": [
      "A total of 28024 unique artists have been played on r/a/dio\n"
     ]
    },
    {
     "data": {
      "text/html": [
       "<div>\n",
       "<style>\n",
       "    .dataframe thead tr:only-child th {\n",
       "        text-align: right;\n",
       "    }\n",
       "\n",
       "    .dataframe thead th {\n",
       "        text-align: left;\n",
       "    }\n",
       "\n",
       "    .dataframe tbody tr th {\n",
       "        vertical-align: top;\n",
       "    }\n",
       "</style>\n",
       "<table border=\"1\" class=\"dataframe\">\n",
       "  <thead>\n",
       "    <tr style=\"text-align: right;\">\n",
       "      <th></th>\n",
       "      <th>artist_name</th>\n",
       "      <th>play counts</th>\n",
       "    </tr>\n",
       "  </thead>\n",
       "  <tbody>\n",
       "    <tr>\n",
       "      <th>0</th>\n",
       "      <td>Hatsune Miku</td>\n",
       "      <td>4645</td>\n",
       "    </tr>\n",
       "    <tr>\n",
       "      <th>1</th>\n",
       "      <td>3L</td>\n",
       "      <td>3652</td>\n",
       "    </tr>\n",
       "    <tr>\n",
       "      <th>2</th>\n",
       "      <td>Kalafina</td>\n",
       "      <td>3366</td>\n",
       "    </tr>\n",
       "    <tr>\n",
       "      <th>3</th>\n",
       "      <td>IOSYS</td>\n",
       "      <td>2852</td>\n",
       "    </tr>\n",
       "    <tr>\n",
       "      <th>4</th>\n",
       "      <td>Yuki Kajiura</td>\n",
       "      <td>2787</td>\n",
       "    </tr>\n",
       "    <tr>\n",
       "      <th>5</th>\n",
       "      <td>Shoji Meguro</td>\n",
       "      <td>2743</td>\n",
       "    </tr>\n",
       "    <tr>\n",
       "      <th>6</th>\n",
       "      <td>JAM Project</td>\n",
       "      <td>2653</td>\n",
       "    </tr>\n",
       "    <tr>\n",
       "      <th>7</th>\n",
       "      <td>Megurine Luka</td>\n",
       "      <td>2630</td>\n",
       "    </tr>\n",
       "    <tr>\n",
       "      <th>8</th>\n",
       "      <td>Itou Kanako</td>\n",
       "      <td>2606</td>\n",
       "    </tr>\n",
       "    <tr>\n",
       "      <th>9</th>\n",
       "      <td>Demetori</td>\n",
       "      <td>2602</td>\n",
       "    </tr>\n",
       "    <tr>\n",
       "      <th>10</th>\n",
       "      <td>supercell</td>\n",
       "      <td>2597</td>\n",
       "    </tr>\n",
       "    <tr>\n",
       "      <th>11</th>\n",
       "      <td>AKB48</td>\n",
       "      <td>2522</td>\n",
       "    </tr>\n",
       "    <tr>\n",
       "      <th>12</th>\n",
       "      <td>Yoko Kanno</td>\n",
       "      <td>2253</td>\n",
       "    </tr>\n",
       "    <tr>\n",
       "      <th>13</th>\n",
       "      <td>μ's</td>\n",
       "      <td>2202</td>\n",
       "    </tr>\n",
       "    <tr>\n",
       "      <th>14</th>\n",
       "      <td>Utada Hikaru</td>\n",
       "      <td>2117</td>\n",
       "    </tr>\n",
       "    <tr>\n",
       "      <th>15</th>\n",
       "      <td>May'n</td>\n",
       "      <td>2084</td>\n",
       "    </tr>\n",
       "    <tr>\n",
       "      <th>16</th>\n",
       "      <td>Yanagi Nagi</td>\n",
       "      <td>2046</td>\n",
       "    </tr>\n",
       "    <tr>\n",
       "      <th>17</th>\n",
       "      <td>Nobuo Uematsu</td>\n",
       "      <td>1979</td>\n",
       "    </tr>\n",
       "    <tr>\n",
       "      <th>18</th>\n",
       "      <td>Horie Yui</td>\n",
       "      <td>1911</td>\n",
       "    </tr>\n",
       "    <tr>\n",
       "      <th>19</th>\n",
       "      <td>Iwasaki Taku</td>\n",
       "      <td>1908</td>\n",
       "    </tr>\n",
       "    <tr>\n",
       "      <th>20</th>\n",
       "      <td>ClariS</td>\n",
       "      <td>1884</td>\n",
       "    </tr>\n",
       "    <tr>\n",
       "      <th>21</th>\n",
       "      <td>Shikata Akiko</td>\n",
       "      <td>1853</td>\n",
       "    </tr>\n",
       "    <tr>\n",
       "      <th>22</th>\n",
       "      <td>Daisuke Ishiwatari</td>\n",
       "      <td>1819</td>\n",
       "    </tr>\n",
       "    <tr>\n",
       "      <th>23</th>\n",
       "      <td>Masaaki Endoh</td>\n",
       "      <td>1810</td>\n",
       "    </tr>\n",
       "    <tr>\n",
       "      <th>24</th>\n",
       "      <td>Mizuki Nana</td>\n",
       "      <td>1803</td>\n",
       "    </tr>\n",
       "  </tbody>\n",
       "</table>\n",
       "</div>"
      ],
      "text/plain": [
       "            artist_name  play counts\n",
       "0         Hatsune Miku          4645\n",
       "1                   3L          3652\n",
       "2             Kalafina          3366\n",
       "3                IOSYS          2852\n",
       "4         Yuki Kajiura          2787\n",
       "5         Shoji Meguro          2743\n",
       "6          JAM Project          2653\n",
       "7        Megurine Luka          2630\n",
       "8          Itou Kanako          2606\n",
       "9             Demetori          2602\n",
       "10           supercell          2597\n",
       "11               AKB48          2522\n",
       "12          Yoko Kanno          2253\n",
       "13                 μ's          2202\n",
       "14        Utada Hikaru          2117\n",
       "15               May'n          2084\n",
       "16         Yanagi Nagi          2046\n",
       "17       Nobuo Uematsu          1979\n",
       "18           Horie Yui          1911\n",
       "19        Iwasaki Taku          1908\n",
       "20              ClariS          1884\n",
       "21       Shikata Akiko          1853\n",
       "22  Daisuke Ishiwatari          1819\n",
       "23       Masaaki Endoh          1810\n",
       "24         Mizuki Nana          1803"
      ]
     },
     "execution_count": 8,
     "metadata": {},
     "output_type": "execute_result"
    }
   ],
   "source": [
    "artists_series = df.name.str.split('-').apply(lambda x: x[0])\n",
    "artists = artists_series.value_counts().rename_axis('artist_name').reset_index(name='play counts')\n",
    "\n",
    "print(f'A total of {len(artists)} unique artists have been played on r/a/dio')\n",
    "\n",
    "artists.head(25)"
   ]
  },
  {
   "cell_type": "code",
   "execution_count": 9,
   "metadata": {
    "collapsed": false
   },
   "outputs": [
    {
     "data": {
      "text/html": [
       "<div>\n",
       "<style>\n",
       "    .dataframe thead tr:only-child th {\n",
       "        text-align: right;\n",
       "    }\n",
       "\n",
       "    .dataframe thead th {\n",
       "        text-align: left;\n",
       "    }\n",
       "\n",
       "    .dataframe tbody tr th {\n",
       "        vertical-align: top;\n",
       "    }\n",
       "</style>\n",
       "<table border=\"1\" class=\"dataframe\">\n",
       "  <thead>\n",
       "    <tr style=\"text-align: right;\">\n",
       "      <th></th>\n",
       "      <th>play counts</th>\n",
       "    </tr>\n",
       "  </thead>\n",
       "  <tbody>\n",
       "    <tr>\n",
       "      <th>count</th>\n",
       "      <td>28024.000000</td>\n",
       "    </tr>\n",
       "    <tr>\n",
       "      <th>mean</th>\n",
       "      <td>26.147195</td>\n",
       "    </tr>\n",
       "    <tr>\n",
       "      <th>std</th>\n",
       "      <td>113.209238</td>\n",
       "    </tr>\n",
       "    <tr>\n",
       "      <th>min</th>\n",
       "      <td>1.000000</td>\n",
       "    </tr>\n",
       "    <tr>\n",
       "      <th>25%</th>\n",
       "      <td>1.000000</td>\n",
       "    </tr>\n",
       "    <tr>\n",
       "      <th>50%</th>\n",
       "      <td>2.000000</td>\n",
       "    </tr>\n",
       "    <tr>\n",
       "      <th>75%</th>\n",
       "      <td>12.000000</td>\n",
       "    </tr>\n",
       "    <tr>\n",
       "      <th>max</th>\n",
       "      <td>4645.000000</td>\n",
       "    </tr>\n",
       "  </tbody>\n",
       "</table>\n",
       "</div>"
      ],
      "text/plain": [
       "        play counts\n",
       "count  28024.000000\n",
       "mean      26.147195\n",
       "std      113.209238\n",
       "min        1.000000\n",
       "25%        1.000000\n",
       "50%        2.000000\n",
       "75%       12.000000\n",
       "max     4645.000000"
      ]
     },
     "execution_count": 9,
     "metadata": {},
     "output_type": "execute_result"
    }
   ],
   "source": [
    "artists.describe()"
   ]
  },
  {
   "cell_type": "code",
   "execution_count": 10,
   "metadata": {
    "collapsed": false
   },
   "outputs": [
    {
     "data": {
      "image/png": "[encoded data removed]",
      "text/plain": [
       "<matplotlib.figure.Figure at 0x7fe2aa9d0128>"
      ]
     },
     "metadata": {},
     "output_type": "display_data"
    }
   ],
   "source": [
    "ax = plt.subplot()\n",
    "ax.set_yscale('symlog')\n",
    "ax.hist(artists['play counts'], bins=100)\n",
    "ax.set_ylabel('number of artists')\n",
    "_ = ax.set_xlabel('play count')"
   ]
  }
 ],
 "metadata": {
  "kernelspec": {
   "display_name": "Python 3",
   "language": "python",
   "name": "python3"
  },
  "language_info": {
   "codemirror_mode": {
    "name": "ipython",
    "version": 3
   },
   "file_extension": ".py",
   "mimetype": "text/x-python",
   "name": "python",
   "nbconvert_exporter": "python",
   "pygments_lexer": "ipython3",
   "version": "3.6.0"
  }
 },
 "nbformat": 4,
 "nbformat_minor": 2
}
